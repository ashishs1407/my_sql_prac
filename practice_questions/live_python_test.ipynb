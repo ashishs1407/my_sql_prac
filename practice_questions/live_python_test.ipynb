{
 "cells": [
  {
   "cell_type": "code",
   "execution_count": null,
   "id": "c5059646",
   "metadata": {},
   "outputs": [],
   "source": [
    "1. Display Fibonacci series up to 10 terms\n",
    "2. Use a loop to display elements from a given list present at odd index positions\n",
    "3. Create a recursive function\n",
    "4. Create a list by picking an odd-index item from the first list and even index items from the second\n",
    "5. Checks if one set is a subset or superset of another set. If found, delete all elements from that set\n",
    "6. Change value of a key in a nested dictionary\n",
    "7. Create a 4X2 integer array and Prints its attributes\n",
    "8. Following is the provided numPy array. Return array of items by taking the third column from all rows\n",
    "9. Create a result array by adding the following two NumPy arrays.\n",
    "    Next, modify the result array by calculating the square of each element\n",
    "10.Create a Python set such that it shows the element from both lists in a pair\n",
    "11. How to get the items of series A not present in series B?\n",
    "12. How to keep only top 2 most frequent values as it is and replace everything else as ‘Other’?\n",
    "13. How to find the positions of numbers that are multiples of 3 from a series?\n"
   ]
  },
  {
   "cell_type": "markdown",
   "id": "f497a592",
   "metadata": {},
   "source": [
    "# 1. Display Fibonacci series up to 10 terms"
   ]
  },
  {
   "cell_type": "code",
   "execution_count": 59,
   "id": "07bb0999",
   "metadata": {},
   "outputs": [],
   "source": [
    "def fibo(n):\n",
    "    \n",
    "    if n==1:\n",
    "        return 1\n",
    "    elif n==0:\n",
    "        return 1\n",
    "    return n+fibo(n-1)\n",
    "    \n",
    "    "
   ]
  },
  {
   "cell_type": "code",
   "execution_count": 60,
   "id": "8b987c19",
   "metadata": {},
   "outputs": [
    {
     "data": {
      "text/plain": [
       "55"
      ]
     },
     "execution_count": 60,
     "metadata": {},
     "output_type": "execute_result"
    }
   ],
   "source": [
    "fibo(10)"
   ]
  },
  {
   "cell_type": "code",
   "execution_count": 63,
   "id": "214b7330",
   "metadata": {},
   "outputs": [
    {
     "name": "stdout",
     "output_type": "stream",
     "text": [
      "[1, 1, 2, 3, 5, 8, 13, 21, 34, 55]\n",
      "10th element of fibbonacci series is  55\n"
     ]
    }
   ],
   "source": [
    "# assuming 1st ans 2nd element to be 1 ,1\n",
    "fib_lst=[1,1]\n",
    "n=10\n",
    "\n",
    "for i in range(n-2):\n",
    "    x=fib_lst[i]+fib_lst[i+1]\n",
    "    fib_lst.append(x)\n",
    "print(fib_lst)  \n",
    "print(\"10th element of fibbonacci series is \",fib_lst[9])"
   ]
  },
  {
   "cell_type": "markdown",
   "id": "148768b7",
   "metadata": {},
   "source": [
    "# 2. Use a loop to display elements from a given list present at odd index positions"
   ]
  },
  {
   "cell_type": "code",
   "execution_count": 123,
   "id": "b2a4478b",
   "metadata": {},
   "outputs": [
    {
     "name": "stdout",
     "output_type": "stream",
     "text": [
      "[15, 23, 78, 26, 23]\n"
     ]
    }
   ],
   "source": [
    "lst=[10,15,89,23,45,78,15,26,48,23]\n",
    "res=[]\n",
    "for i in range(len(lst)):\n",
    "    if i%2!=0:\n",
    "        res.append(lst[i])\n",
    "print(res)"
   ]
  },
  {
   "cell_type": "markdown",
   "id": "15876364",
   "metadata": {},
   "source": [
    "# 3. Create a recursive function"
   ]
  },
  {
   "cell_type": "code",
   "execution_count": 3,
   "id": "9a2c317a",
   "metadata": {},
   "outputs": [],
   "source": [
    "# factorial\n",
    "def facto(n):\n",
    "    if n==0:\n",
    "        return 1\n",
    "    elif n==1:\n",
    "        return 1\n",
    "    return n*facto(n-1)"
   ]
  },
  {
   "cell_type": "code",
   "execution_count": 4,
   "id": "906b4204",
   "metadata": {},
   "outputs": [
    {
     "data": {
      "text/plain": [
       "120"
      ]
     },
     "execution_count": 4,
     "metadata": {},
     "output_type": "execute_result"
    }
   ],
   "source": [
    "facto(5)"
   ]
  },
  {
   "cell_type": "markdown",
   "id": "abf18a1c",
   "metadata": {},
   "source": [
    "# 4. Create a list by picking an odd-index item from the first list and even index items from the second"
   ]
  },
  {
   "cell_type": "code",
   "execution_count": 65,
   "id": "42f562df",
   "metadata": {},
   "outputs": [
    {
     "name": "stdout",
     "output_type": "stream",
     "text": [
      "[56, 45, 48, 23, 35, 59, 33, 15, 75, 78]\n"
     ]
    }
   ],
   "source": [
    "lst1=[12,45,12,23,45,59,26,15,48,78]  # odd index items only\n",
    "lst2=[56,23,48,96,35,12,33,44,75,99]    # even index items only\n",
    "lst3=[]\n",
    "\n",
    "for i in range(len(lst1)):\n",
    "    if i%2 ==0:\n",
    "        lst3.append(lst2[i])\n",
    "    elif i%2!=0:\n",
    "        lst3.append(lst1[i])\n",
    "print(lst3)"
   ]
  },
  {
   "cell_type": "code",
   "execution_count": null,
   "id": "14eebbfc",
   "metadata": {},
   "outputs": [],
   "source": []
  },
  {
   "cell_type": "markdown",
   "id": "ff23ab4b",
   "metadata": {},
   "source": [
    "# 5. Checks if one set is a subset or superset of another set. If found, delete all elements from that set"
   ]
  },
  {
   "cell_type": "code",
   "execution_count": 122,
   "id": "bb6f99e8",
   "metadata": {},
   "outputs": [
    {
     "name": "stdout",
     "output_type": "stream",
     "text": [
      "all the elements are in Univ set\n",
      "set()\n"
     ]
    }
   ],
   "source": [
    "# Cheking set_a is subset of uviversal set univ and removing the elements from set_a\n",
    "\n",
    "univ={i for i in range(50)}\n",
    "set_a={5,10,15,20,25,30,35,40}\n",
    "if univ & set_a == set_a:\n",
    "    print(\"all the elements are in Univ set\")\n",
    "    set_a=set_a -univ&set_a\n",
    "    print(set_a)\n",
    "else:\n",
    "    x=set_a -univ&set_a\n",
    "    print(\"This element is not in Unive set \",x)\n",
    "    print(x)\n",
    "    print(set_a=x)\n",
    "    \n",
    "    \n"
   ]
  },
  {
   "cell_type": "markdown",
   "id": "287e0e57",
   "metadata": {},
   "source": [
    "# 6. Change value of a key in a nested dictionary"
   ]
  },
  {
   "cell_type": "code",
   "execution_count": 12,
   "id": "1ced7c50",
   "metadata": {},
   "outputs": [],
   "source": [
    "dict1={\"name\":\"Ashish\",\"cars\":[\"BMW\",\"ShellX\",\"Bently\",\"Porshe\"]}\n",
    "dict1[\"name\"]=\"Ajay\"\n",
    "dict1['cars'][1]=\"Mercedes\""
   ]
  },
  {
   "cell_type": "code",
   "execution_count": 13,
   "id": "9559b8c1",
   "metadata": {},
   "outputs": [
    {
     "data": {
      "text/plain": [
       "{'name': 'Ajay', 'cars': ['BMW', 'Mercedes', 'Bently', 'Porshe']}"
      ]
     },
     "execution_count": 13,
     "metadata": {},
     "output_type": "execute_result"
    }
   ],
   "source": [
    "dict1"
   ]
  },
  {
   "cell_type": "markdown",
   "id": "af12cd67",
   "metadata": {},
   "source": [
    "# 7. Create a 4X2 integer array and Prints its attributes"
   ]
  },
  {
   "cell_type": "code",
   "execution_count": 124,
   "id": "79d15597",
   "metadata": {},
   "outputs": [
    {
     "name": "stdout",
     "output_type": "stream",
     "text": [
      "[[ 5  2]\n",
      " [10  5]\n",
      " [ 4 10]\n",
      " [ 4  4]]\n"
     ]
    }
   ],
   "source": [
    "import numpy as np\n",
    "arr=np.random.randint(1,11,8).reshape(4,2)\n",
    "print(arr)"
   ]
  },
  {
   "cell_type": "markdown",
   "id": "aa2506f0",
   "metadata": {},
   "source": [
    "# `8`. Following is the provided numPy array. Return array of items by taking the third column from all rows"
   ]
  },
  {
   "cell_type": "code",
   "execution_count": 125,
   "id": "9fea4094",
   "metadata": {},
   "outputs": [
    {
     "name": "stdout",
     "output_type": "stream",
     "text": [
      "[[ 4  5  8]\n",
      " [ 9  4  2]\n",
      " [ 5 10  2]]\n"
     ]
    }
   ],
   "source": [
    "\n",
    "arr2=np.random.randint(1,11,9).reshape(3,3)\n",
    "print(arr2)"
   ]
  },
  {
   "cell_type": "code",
   "execution_count": 126,
   "id": "72eb60df",
   "metadata": {},
   "outputs": [
    {
     "name": "stdout",
     "output_type": "stream",
     "text": [
      "[[8]\n",
      " [2]\n",
      " [2]]\n"
     ]
    }
   ],
   "source": [
    "arr3=arr2[:,2:]\n",
    "print(arr3)"
   ]
  },
  {
   "cell_type": "code",
   "execution_count": 127,
   "id": "e2744311",
   "metadata": {},
   "outputs": [
    {
     "name": "stdout",
     "output_type": "stream",
     "text": [
      "[[8 2 2]]\n"
     ]
    }
   ],
   "source": [
    "print(arr3.reshape(1,3))"
   ]
  },
  {
   "cell_type": "markdown",
   "id": "a2f3884f",
   "metadata": {},
   "source": [
    "# 9. Create a result array by adding the following two NumPy arrays.Next, modify the result array by calculating the square of each element"
   ]
  },
  {
   "cell_type": "code",
   "execution_count": 29,
   "id": "c93ce71f",
   "metadata": {},
   "outputs": [],
   "source": [
    "arr1=np.random.randint(1,6,9).reshape(3,3)\n",
    "arr2=np.random.randint(6,11,9).reshape(3,3)"
   ]
  },
  {
   "cell_type": "code",
   "execution_count": 30,
   "id": "5b720828",
   "metadata": {},
   "outputs": [
    {
     "data": {
      "text/plain": [
       "array([[2, 4, 5],\n",
       "       [2, 1, 1],\n",
       "       [1, 4, 1]])"
      ]
     },
     "execution_count": 30,
     "metadata": {},
     "output_type": "execute_result"
    }
   ],
   "source": [
    "arr1"
   ]
  },
  {
   "cell_type": "code",
   "execution_count": 31,
   "id": "483cc7b2",
   "metadata": {},
   "outputs": [
    {
     "data": {
      "text/plain": [
       "array([[ 9,  9,  6],\n",
       "       [ 8, 10,  8],\n",
       "       [ 6, 10,  6]])"
      ]
     },
     "execution_count": 31,
     "metadata": {},
     "output_type": "execute_result"
    }
   ],
   "source": [
    "arr2"
   ]
  },
  {
   "cell_type": "code",
   "execution_count": 33,
   "id": "1d5586cc",
   "metadata": {},
   "outputs": [
    {
     "data": {
      "text/plain": [
       "array([[11, 13, 11],\n",
       "       [10, 11,  9],\n",
       "       [ 7, 14,  7]])"
      ]
     },
     "execution_count": 33,
     "metadata": {},
     "output_type": "execute_result"
    }
   ],
   "source": [
    "arr3=arr1+arr2\n",
    "arr3"
   ]
  },
  {
   "cell_type": "code",
   "execution_count": 35,
   "id": "9ff43ad9",
   "metadata": {},
   "outputs": [
    {
     "data": {
      "text/plain": [
       "array([[121, 169, 121],\n",
       "       [100, 121,  81],\n",
       "       [ 49, 196,  49]])"
      ]
     },
     "execution_count": 35,
     "metadata": {},
     "output_type": "execute_result"
    }
   ],
   "source": [
    "result=arr3**2\n",
    "result"
   ]
  },
  {
   "cell_type": "code",
   "execution_count": null,
   "id": "cdbf17a6",
   "metadata": {},
   "outputs": [],
   "source": []
  },
  {
   "cell_type": "markdown",
   "id": "f497acf3",
   "metadata": {},
   "source": [
    "# 10.Create a Python set such that it shows the element from both lists in a pair"
   ]
  },
  {
   "cell_type": "code",
   "execution_count": 49,
   "id": "2157119f",
   "metadata": {},
   "outputs": [
    {
     "name": "stdout",
     "output_type": "stream",
     "text": [
      "{(56, 33), (78, 48), (12, 12), (45, 56), (59, 97)}\n"
     ]
    }
   ],
   "source": [
    "A=[12,45,78,56,59]\n",
    "B=[12,56,48,33,97]\n",
    "C=set()\n",
    "\n",
    "for i in range(len(A)):\n",
    "    x=(A[i],B[i])\n",
    "    C.add(x)\n",
    "    \n",
    "print(C)"
   ]
  },
  {
   "cell_type": "markdown",
   "id": "457637b7",
   "metadata": {},
   "source": [
    "# 11. How to get the items of series A not present in series B?\n"
   ]
  },
  {
   "cell_type": "code",
   "execution_count": 130,
   "id": "f6139da1",
   "metadata": {},
   "outputs": [
    {
     "name": "stdout",
     "output_type": "stream",
     "text": [
      "{99, 101, 45, 78, 59}\n"
     ]
    }
   ],
   "source": [
    "# requirement A`=>  A-(A & B)\n",
    "\n",
    "A={12,45,78,56,59,99,101}\n",
    "B={12,56,48,33,97}\n",
    "c=A&B\n",
    "res=A-c\n",
    "print(res)\n"
   ]
  },
  {
   "cell_type": "markdown",
   "id": "b5ff2d98",
   "metadata": {},
   "source": [
    "# 12. How to keep only top 2 most frequent values as it is and replace everything else as ‘Other’?\n",
    "\n"
   ]
  },
  {
   "cell_type": "code",
   "execution_count": 145,
   "id": "e840d2eb",
   "metadata": {},
   "outputs": [
    {
     "data": {
      "text/html": [
       "<div>\n",
       "<style scoped>\n",
       "    .dataframe tbody tr th:only-of-type {\n",
       "        vertical-align: middle;\n",
       "    }\n",
       "\n",
       "    .dataframe tbody tr th {\n",
       "        vertical-align: top;\n",
       "    }\n",
       "\n",
       "    .dataframe thead th {\n",
       "        text-align: right;\n",
       "    }\n",
       "</style>\n",
       "<table border=\"1\" class=\"dataframe\">\n",
       "  <thead>\n",
       "    <tr style=\"text-align: right;\">\n",
       "      <th></th>\n",
       "      <th>0</th>\n",
       "    </tr>\n",
       "  </thead>\n",
       "  <tbody>\n",
       "    <tr>\n",
       "      <th>0</th>\n",
       "      <td>other</td>\n",
       "    </tr>\n",
       "    <tr>\n",
       "      <th>1</th>\n",
       "      <td>other</td>\n",
       "    </tr>\n",
       "    <tr>\n",
       "      <th>2</th>\n",
       "      <td>other</td>\n",
       "    </tr>\n",
       "    <tr>\n",
       "      <th>3</th>\n",
       "      <td>7</td>\n",
       "    </tr>\n",
       "    <tr>\n",
       "      <th>4</th>\n",
       "      <td>7</td>\n",
       "    </tr>\n",
       "    <tr>\n",
       "      <th>5</th>\n",
       "      <td>other</td>\n",
       "    </tr>\n",
       "    <tr>\n",
       "      <th>6</th>\n",
       "      <td>1</td>\n",
       "    </tr>\n",
       "    <tr>\n",
       "      <th>7</th>\n",
       "      <td>other</td>\n",
       "    </tr>\n",
       "    <tr>\n",
       "      <th>8</th>\n",
       "      <td>1</td>\n",
       "    </tr>\n",
       "    <tr>\n",
       "      <th>9</th>\n",
       "      <td>other</td>\n",
       "    </tr>\n",
       "    <tr>\n",
       "      <th>10</th>\n",
       "      <td>7</td>\n",
       "    </tr>\n",
       "    <tr>\n",
       "      <th>11</th>\n",
       "      <td>7</td>\n",
       "    </tr>\n",
       "    <tr>\n",
       "      <th>12</th>\n",
       "      <td>other</td>\n",
       "    </tr>\n",
       "    <tr>\n",
       "      <th>13</th>\n",
       "      <td>other</td>\n",
       "    </tr>\n",
       "    <tr>\n",
       "      <th>14</th>\n",
       "      <td>1</td>\n",
       "    </tr>\n",
       "  </tbody>\n",
       "</table>\n",
       "</div>"
      ],
      "text/plain": [
       "        0\n",
       "0   other\n",
       "1   other\n",
       "2   other\n",
       "3       7\n",
       "4       7\n",
       "5   other\n",
       "6       1\n",
       "7   other\n",
       "8       1\n",
       "9   other\n",
       "10      7\n",
       "11      7\n",
       "12  other\n",
       "13  other\n",
       "14      1"
      ]
     },
     "execution_count": 145,
     "metadata": {},
     "output_type": "execute_result"
    }
   ],
   "source": [
    "import pandas as pd\n",
    "\n",
    "# generating Random numbers\n",
    "np.random.seed(555)\n",
    "arr=np.random.randint(1,11,15)\n",
    "\n",
    "# converting it to a dataframe\n",
    "df=pd.DataFrame(arr)\n",
    "df.astype(\"str\")\n",
    "\n",
    "# sorting the top  2 repeated elements\n",
    "df.value_counts().head(2)\n",
    "\n",
    "# replacing the other elements with word other\n",
    "for i in df.values:\n",
    "    if i!=7 and i!=1:\n",
    "        df.replace(i,\"other\",inplace=True)\n",
    "df"
   ]
  },
  {
   "cell_type": "markdown",
   "id": "414b373b",
   "metadata": {},
   "source": [
    "# 13. How to find the positions of numbers that are multiples of 3 from a series?"
   ]
  },
  {
   "cell_type": "code",
   "execution_count": 146,
   "id": "776fe9d4",
   "metadata": {},
   "outputs": [
    {
     "data": {
      "text/plain": [
       "[0, 2, 3, 5]"
      ]
     },
     "execution_count": 146,
     "metadata": {},
     "output_type": "execute_result"
    }
   ],
   "source": [
    "lst=[45,89,63,36,88,72,10,32]\n",
    "res=[]\n",
    "for i in range(len(lst)):\n",
    "    if lst[i]%3==0:\n",
    "        res.append(i)\n",
    "res"
   ]
  }
 ],
 "metadata": {
  "kernelspec": {
   "display_name": "Python 3",
   "language": "python",
   "name": "python3"
  },
  "language_info": {
   "codemirror_mode": {
    "name": "ipython",
    "version": 3
   },
   "file_extension": ".py",
   "mimetype": "text/x-python",
   "name": "python",
   "nbconvert_exporter": "python",
   "pygments_lexer": "ipython3",
   "version": "3.8.8"
  }
 },
 "nbformat": 4,
 "nbformat_minor": 5
}
